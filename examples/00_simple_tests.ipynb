{
 "cells": [
  {
   "cell_type": "markdown",
   "metadata": {},
   "source": [
    "# Simple Tests"
   ]
  },
  {
   "cell_type": "markdown",
   "metadata": {},
   "source": [
    "Some simple checks can be performed to test the performance and the behavior of the `EUNN` and the `EURNN` units."
   ]
  },
  {
   "cell_type": "markdown",
   "metadata": {},
   "source": [
    "## Imports"
   ]
  },
  {
   "cell_type": "code",
   "execution_count": 1,
   "metadata": {},
   "outputs": [],
   "source": [
    "import torch\n",
    "import numpy as np\n",
    "from tqdm import trange\n",
    "import sys; sys.path.append('..')\n",
    "from torch_eunn import EUNN\n",
    "\n",
    "np.random.seed(42)\n",
    "np.set_printoptions(precision=2, suppress=True)"
   ]
  },
  {
   "cell_type": "markdown",
   "metadata": {},
   "source": [
    "## Test Unitarity"
   ]
  },
  {
   "cell_type": "markdown",
   "metadata": {},
   "source": [
    "The action of a EUNNLayer should always be unitary."
   ]
  },
  {
   "cell_type": "code",
   "execution_count": 2,
   "metadata": {},
   "outputs": [
    {
     "name": "stdout",
     "output_type": "stream",
     "text": [
      "[[1. 0. 0. ... 0. 0. 0.]\n",
      " [0. 1. 0. ... 0. 0. 0.]\n",
      " [0. 0. 1. ... 0. 0. 0.]\n",
      " ...\n",
      " [0. 0. 0. ... 1. 0. 0.]\n",
      " [0. 0. 0. ... 0. 1. 0.]\n",
      " [0. 0. 0. ... 0. 0. 1.]]\n",
      "CPU times: user 43.9 ms, sys: 8.9 ms, total: 52.8 ms\n",
      "Wall time: 14.1 ms\n"
     ]
    }
   ],
   "source": [
    "%%time\n",
    "\n",
    "# dimensionality of the cell\n",
    "num_hidden = 50\n",
    "\n",
    "# create new cell\n",
    "cell = EUNN(num_hidden)\n",
    "\n",
    "# get result of action of cell on identity matrix:\n",
    "x = torch.stack([torch.eye(num_hidden, num_hidden), torch.zeros(num_hidden, num_hidden)], -1)\n",
    "y = cell(x)\n",
    "y = y[...,0].detach().numpy() + 1j*y[...,1].detach().numpy()\n",
    "\n",
    "# check unitarity of result\n",
    "print(np.abs(y@y.T.conj()))"
   ]
  },
  {
   "cell_type": "markdown",
   "metadata": {},
   "source": [
    "We see that the operation of a `EUNN` is clearly unitary."
   ]
  },
  {
   "cell_type": "markdown",
   "metadata": {},
   "source": [
    "## Test Universality"
   ]
  },
  {
   "cell_type": "markdown",
   "metadata": {},
   "source": [
    "Next we check if a full capacity cell can approximate any unitary matrix"
   ]
  },
  {
   "cell_type": "code",
   "execution_count": 3,
   "metadata": {},
   "outputs": [
    {
     "name": "stdout",
     "output_type": "stream",
     "text": [
      "[[1. 0. 0. 0. 0. 0. 0. 0. 0. 0. 0. 0. 0. 0.]\n",
      " [0. 1. 0. 0. 0. 0. 0. 0. 0. 0. 0. 0. 0. 0.]\n",
      " [0. 0. 1. 0. 0. 0. 0. 0. 0. 0. 0. 0. 0. 0.]\n",
      " [0. 0. 0. 1. 0. 0. 0. 0. 0. 0. 0. 0. 0. 0.]\n",
      " [0. 0. 0. 0. 1. 0. 0. 0. 0. 0. 0. 0. 0. 0.]\n",
      " [0. 0. 0. 0. 0. 1. 0. 0. 0. 0. 0. 0. 0. 0.]\n",
      " [0. 0. 0. 0. 0. 0. 1. 0. 0. 0. 0. 0. 0. 0.]\n",
      " [0. 0. 0. 0. 0. 0. 0. 1. 0. 0. 0. 0. 0. 0.]\n",
      " [0. 0. 0. 0. 0. 0. 0. 0. 1. 0. 0. 0. 0. 0.]\n",
      " [0. 0. 0. 0. 0. 0. 0. 0. 0. 1. 0. 0. 0. 0.]\n",
      " [0. 0. 0. 0. 0. 0. 0. 0. 0. 0. 1. 0. 0. 0.]\n",
      " [0. 0. 0. 0. 0. 0. 0. 0. 0. 0. 0. 1. 0. 0.]\n",
      " [0. 0. 0. 0. 0. 0. 0. 0. 0. 0. 0. 0. 1. 0.]\n",
      " [0. 0. 0. 0. 0. 0. 0. 0. 0. 0. 0. 0. 0. 1.]]\n",
      "Final loss: 7.90e-05\n",
      "CPU times: user 7.29 s, sys: 50.9 ms, total: 7.34 s\n",
      "Wall time: 6.76 s\n"
     ]
    }
   ],
   "source": [
    "%%time\n",
    "\n",
    "# dimensionality of the cell\n",
    "num_hidden = 14\n",
    "\n",
    "# create new cell\n",
    "cell = EUNN(num_hidden, num_hidden)\n",
    "\n",
    "# create unitary matrix to approximate\n",
    "U, _, _ = np.linalg.svd(np.random.randn(num_hidden,num_hidden) + 1j*np.random.randn(num_hidden,num_hidden))\n",
    "U_torch = torch.stack([\n",
    "    torch.tensor(np.real(U.T.conj()), dtype=torch.float32),\n",
    "    torch.tensor(np.imag(U.T.conj()), dtype=torch.float32),\n",
    "], -1)\n",
    "\n",
    "# create the target\n",
    "# the cell needs to be trained such that action of the cell on U.T.conj() yields the identity\n",
    "I_torch = torch.stack([\n",
    "    torch.eye(num_hidden),   \n",
    "    torch.zeros((num_hidden,num_hidden)),\n",
    "], -1)\n",
    "\n",
    "# criterion & optimizer\n",
    "lossfunc = torch.nn.MSELoss()\n",
    "optimizer = torch.optim.Adam(cell.parameters(), lr=0.05)\n",
    "\n",
    "# training\n",
    "for _ in range(1500):\n",
    "    optimizer.zero_grad()\n",
    "    I_approx = cell(U_torch)\n",
    "    loss = lossfunc(I_approx, I_torch)\n",
    "    loss.backward()\n",
    "    optimizer.step()\n",
    "\n",
    "result = I_approx[...,0].detach().numpy() + 1j*I_approx[...,1].detach().numpy()\n",
    "\n",
    "print(abs(result)**2)\n",
    "print(\"Final loss: {:.2e}\".format(loss.item()))"
   ]
  },
  {
   "cell_type": "markdown",
   "metadata": {},
   "source": [
    "We see that we can succesfully approximate the matrix U."
   ]
  },
  {
   "cell_type": "markdown",
   "metadata": {},
   "source": [
    "## Test Speed"
   ]
  },
  {
   "cell_type": "markdown",
   "metadata": {},
   "source": [
    "We can compare the execution speed of the `EUNN`, which should act like a unitary matrix to a normal complex matrix layer."
   ]
  },
  {
   "cell_type": "code",
   "execution_count": 4,
   "metadata": {},
   "outputs": [],
   "source": [
    "from torch_eunn import cmm\n",
    "class ComplexLayer(torch.nn.Module):\n",
    "    def __init__(self, hidden_size):\n",
    "        super(ComplexLayer, self).__init__()\n",
    "        self.hidden_size = hidden_size\n",
    "        self.W = torch.nn.Parameter(torch.randn(1, hidden_size, 2))\n",
    "    def forward(self, x):\n",
    "        return cmm(x, self.W)"
   ]
  },
  {
   "cell_type": "code",
   "execution_count": 5,
   "metadata": {},
   "outputs": [
    {
     "name": "stdout",
     "output_type": "stream",
     "text": [
      "CPU times: user 172 µs, sys: 2 µs, total: 174 µs\n",
      "Wall time: 179 µs\n",
      "CPU times: user 23.1 ms, sys: 0 ns, total: 23.1 ms\n",
      "Wall time: 6.57 ms\n",
      "CPU times: user 3.05 ms, sys: 49 µs, total: 3.1 ms\n",
      "Wall time: 767 µs\n"
     ]
    }
   ],
   "source": [
    "batch_size = 30\n",
    "hidden_size = 30\n",
    "\n",
    "# create layers\n",
    "complex_layer = ComplexLayer(hidden_size)\n",
    "unitary_layer = EUNN(hidden_size)\n",
    "unitary_layer_cap2 = EUNN(hidden_size, capacity=2)\n",
    "\n",
    "# create input vector\n",
    "x = torch.randn(batch_size, hidden_size, 2)\n",
    "\n",
    "# time speeds\n",
    "%time y = complex_layer(x)\n",
    "%time y = unitary_layer(x)\n",
    "%time y = unitary_layer_cap2(x)"
   ]
  },
  {
   "cell_type": "markdown",
   "metadata": {},
   "source": [
    "We see that the unitary EUNN implementation is still considerably slower than a normal complex multiplication. However, for capacity 2 networks (which are recommended to be used in recurrent neural networks), the difference is not big, while the potential benefits (no vanishing/exploding gradients) can be huge."
   ]
  }
 ],
 "metadata": {
  "kernelspec": {
   "display_name": "Python 3",
   "language": "python",
   "name": "python3"
  },
  "language_info": {
   "codemirror_mode": {
    "name": "ipython",
    "version": 3
   },
   "file_extension": ".py",
   "mimetype": "text/x-python",
   "name": "python",
   "nbconvert_exporter": "python",
   "pygments_lexer": "ipython3",
   "version": "3.7.7"
  }
 },
 "nbformat": 4,
 "nbformat_minor": 4
}
